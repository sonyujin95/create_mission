{
 "cells": [
  {
   "cell_type": "markdown",
   "metadata": {},
   "source": [
    "#1\n",
    "\n",
    "A 쇼핑몰에서 택배 배송업무를 진행하려고 한다.\n",
    "3명의 고객정보를 통해 송장을 만들려고 한다.\n",
    "고객 정보로는 이름, 지역, 핸드폰 번호가 무작위 순서로 주어진다.\n",
    "이를 지역, 이름, 핸드폰 번호 순으로 나열해서 출력해라."
   ]
  },
  {
   "cell_type": "code",
   "execution_count": 3,
   "metadata": {},
   "outputs": [
    {
     "name": "stdout",
     "output_type": "stream",
     "text": [
      "지역 :  서울\n",
      "이름 :  윤정화\n",
      "전화번호 :  12345678\n",
      "지역 :  경기도\n",
      "이름 :  장규삼\n",
      "전화번호 :  12345678\n",
      "지역 :  서울\n",
      "이름 :  손유진\n",
      "전화번호 :  12345678\n"
     ]
    }
   ],
   "source": [
    "customer1 = {\"이름\" : \"윤정화\", \"지역\" : \"서울\", \"전화번호\" : 12345678}\n",
    "customer2 = {\"지역\" : \"경기도\", \"전화번호\" : 12345678, \"이름\" : \"장규삼\"}\n",
    "customer3 = {\"전화번호\" : 12345678, \"이름\" : \"손유진\", \"지역\" : \"서울\"}\n",
    "\n",
    "def make_post(customer) :\n",
    "    for i in customer :\n",
    "        if i == '지역' :\n",
    "            print(\"지역 : \", customer[i])\n",
    "            \n",
    "    for i in customer :\n",
    "        if i == '이름' :\n",
    "            print(\"이름 : \", customer[i])\n",
    "            \n",
    "    for i in customer :\n",
    "        if i == '전화번호' :\n",
    "            print(\"전화번호 : \", customer[i])\n",
    "            \n",
    "make_post(customer1)\n",
    "make_post(customer2)\n",
    "make_post(customer3)"
   ]
  },
  {
   "cell_type": "markdown",
   "metadata": {},
   "source": [
    "#2\n",
    "미스코리아 선발대회에서 여러 참가자 중 점수가 가장 높은 순서대로 진, 선, 미를 선발할 계획이다.\n",
    "참가자들은 심사위원 점수, 실시간 투표 점수를 받게 되는데 총점이 가장 높은 순서대로 진, 선, 미로 선발된다.\n",
    "여러 참가자들의 점수를 확인해서 진, 선, 미를 선발하라\n",
    "\n",
    "김사랑, 이하늬, 이지은, 서윤희, 김은정\n",
    "\n",
    "\n"
   ]
  },
  {
   "cell_type": "code",
   "execution_count": 11,
   "metadata": {},
   "outputs": [
    {
     "name": "stdout",
     "output_type": "stream",
     "text": [
      "진 [('서윤희', 90, 95)]\n",
      "선 [('김은정', 85, 95)]\n",
      "미 [('이지은', 80, 85)]\n"
     ]
    }
   ],
   "source": [
    "entry =[\n",
    "    (\"김사랑\", 70, 75),\n",
    "    (\"이하늬\", 60, 65),\n",
    "    (\"이지은\", 80, 85),\n",
    "    (\"서윤희\", 90, 95),\n",
    "    (\"김은정\", 85, 95)]\n",
    "\n",
    "sum = []\n",
    "\n",
    "def make_sum() :\n",
    "    # 각각의 심사위원 점수 + 실시간 투표 점수 \n",
    "    for i in range(0,5) :\n",
    "        sum.append(entry[i][1] + entry[i][2])\n",
    "    \n",
    "    # 내림차순으로 sorting \n",
    "    sum.sort(reverse = True)\n",
    "\n",
    "    print(\"진\", list(filter(lambda x : x[1]+x[2] == sum[0], entry)))\n",
    "    print(\"선\", list(filter(lambda x : x[1]+x[2] == sum[1], entry)))\n",
    "    print(\"미\", list(filter(lambda x : x[1]+x[2] == sum[2], entry)))\n",
    "         \n",
    "    # print sum[0] : 진, sum[1] : 선, sum[2] : \n",
    "        \n",
    "make_sum()\n",
    "    "
   ]
  },
  {
   "cell_type": "code",
   "execution_count": null,
   "metadata": {},
   "outputs": [],
   "source": []
  },
  {
   "cell_type": "code",
   "execution_count": 10,
   "metadata": {},
   "outputs": [
    {
     "name": "stdout",
     "output_type": "stream",
     "text": [
      "140\n"
     ]
    }
   ],
   "source": []
  },
  {
   "cell_type": "code",
   "execution_count": null,
   "metadata": {},
   "outputs": [],
   "source": []
  }
 ],
 "metadata": {
  "kernelspec": {
   "display_name": "Python 3",
   "language": "python",
   "name": "python3"
  },
  "language_info": {
   "codemirror_mode": {
    "name": "ipython",
    "version": 3
   },
   "file_extension": ".py",
   "mimetype": "text/x-python",
   "name": "python",
   "nbconvert_exporter": "python",
   "pygments_lexer": "ipython3",
   "version": "3.8.5"
  }
 },
 "nbformat": 4,
 "nbformat_minor": 4
}
